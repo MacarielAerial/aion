{
 "cells": [
  {
   "cell_type": "markdown",
   "metadata": {},
   "source": [
    "# Local Testing"
   ]
  },
  {
   "cell_type": "markdown",
   "metadata": {},
   "source": [
    "Notebook for local testing"
   ]
  },
  {
   "cell_type": "code",
   "execution_count": 2,
   "metadata": {},
   "outputs": [],
   "source": [
    "from aion.nodes.project_logging import default_logging\n",
    "\n",
    "default_logging()"
   ]
  },
  {
   "cell_type": "code",
   "execution_count": 5,
   "metadata": {},
   "outputs": [
    {
     "name": "stdout",
     "output_type": "stream",
     "text": [
      "2024-06-04 10:17:34,177 urllib3.connectionpool - DEBUG:Starting new HTTP connection (1): 127.0.0.1:8000\n",
      "2024-06-04 10:17:36,162 urllib3.connectionpool - DEBUG:http://127.0.0.1:8000 \"POST /upload/ HTTP/1.1\" 200 98\n",
      "{'original_filename': 'coins_on_wood.png', 's3_filename': 'eef5c688-3127-5284-95f2-8effc1e17857.png'}\n"
     ]
    }
   ],
   "source": [
    "from pathlib import Path\n",
    "import requests\n",
    "from dotenv import load_dotenv\n",
    "\n",
    "load_dotenv(dotenv_path='../.env')\n",
    "file_path = Path('../data/01_raw/coins_on_wood.png')\n",
    "\n",
    "def upload_file(file_path):\n",
    "    url = \"http://127.0.0.1:8000/upload/\"\n",
    "    with open(file_path, 'rb') as file:\n",
    "        files = {'file': (file_path.name, file)}\n",
    "        response = requests.post(url, files=files)\n",
    "    return response.json()\n",
    "\n",
    "response = upload_file(file_path)\n",
    "\n",
    "print(response)"
   ]
  },
  {
   "cell_type": "code",
   "execution_count": 34,
   "metadata": {},
   "outputs": [
    {
     "name": "stdout",
     "output_type": "stream",
     "text": [
      "{'message': 'Item associated with image URI eef5c688-3127-5284-95f2-8effc1e17857 successfully uploaded'}\n"
     ]
    }
   ],
   "source": [
    "import requests\n",
    "from dotenv import load_dotenv\n",
    "\n",
    "load_dotenv(dotenv_path='../.env')\n",
    "str_s3_path = 's3://aion-dev-34567/eef5c688-3127-5284-95f2-8effc1e17857.png'\n",
    "\n",
    "def parse_and_upload(str_s3_path):\n",
    "    url = \"http://127.0.0.1:8000/parse_and_upload/\"\n",
    "    params = {'str_s3_path': str_s3_path}\n",
    "    response = requests.post(url, params=params)\n",
    "\n",
    "    return response.json()\n",
    "\n",
    "response = parse_and_upload(str_s3_path)\n",
    "print(response)\n",
    "    "
   ]
  }
 ],
 "metadata": {
  "kernelspec": {
   "display_name": ".venv",
   "language": "python",
   "name": "python3"
  },
  "language_info": {
   "codemirror_mode": {
    "name": "ipython",
    "version": 3
   },
   "file_extension": ".py",
   "mimetype": "text/x-python",
   "name": "python",
   "nbconvert_exporter": "python",
   "pygments_lexer": "ipython3",
   "version": "3.11.9"
  }
 },
 "nbformat": 4,
 "nbformat_minor": 2
}
