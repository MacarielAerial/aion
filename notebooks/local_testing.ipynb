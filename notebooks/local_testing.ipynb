{
 "cells": [
  {
   "cell_type": "markdown",
   "metadata": {},
   "source": [
    "# Local Testing"
   ]
  },
  {
   "cell_type": "markdown",
   "metadata": {},
   "source": [
    "Notebook for local testing"
   ]
  },
  {
   "cell_type": "code",
   "execution_count": 1,
   "metadata": {},
   "outputs": [],
   "source": [
    "from aion.nodes.project_logging import default_logging\n",
    "\n",
    "default_logging()"
   ]
  },
  {
   "cell_type": "code",
   "execution_count": 12,
   "metadata": {},
   "outputs": [
    {
     "data": {
      "text/plain": [
       "'IQoJb3JpZ2luX2VjEBwaCWV1LXdlc3QtMSJHMEUCIC/1H23pAhTTUyt1CptSuN2PTv3DCl/tL26JkazW5tj1AiEAnUD07alBs7qVZ+rcJtJSw8Fbn4JlZSAeEjL4biYxdIEq9gIIpf//////////ARAAGgwwMjgxMTQwOTc2OTAiDIFoNIXZAk5LZldZ5yrKAkvDsRf1pZlS2HWA+l5DD8lXbzQdTpS9ZMVjbNajJHGsuSJdZdUSf1/gLtEVHtOcjmv1zX7h677/jKMPECEGXakn5f/3WGdvaPcw6QIj/IrKx0RkKNO+35Jet5D9AsbI2+iLYSRSaFf3zCrDQUkIpqqoJXzu6d8LDeD5h40Cj44JFYZQ+rSXfGUaOnCjAAPgvhBY2qczTG/yzH23VsjPfItE6+ccAgi4DXeqb39VygnjUXGRdR5GV06NBWeNaDq4WwuFxEh5pOSDllkRHQK4wxUYvpO8qoriHqkM7wfx7ik2KCtDv4nz+JhCXxGL7PfXtMn9j4fBd1XS80HIqQtIZ0CAfZN6f2UB6OFSfWH3R9RKBYZ3IjwP2f07otK5HdU4TVvItwy8+ldl29ZYXJXdPf6OUa79YyXhViPMItfN01ug8VLn6nU/wYo2PDCp9vuyBjqnAcqpDQ6SN9r3q1GXSoKtKisWcU4w39FCpvM5JR7pcD3YOpoY0ozsp7Ep31OIJIghupcwk3bvw8wB8NAqje/hhmwLPHsoNxkm4BORu0LiqcnWUU/hhTCJFdaY0qBS93z4Jb2pk69YyRsjJQw5LJK3qNcGf3Q2kN33DO3dXPRbqXe+F+wMfitmEBP/VHVPfohfK/JY97ejGfm1tnD/JVhZJ7UExBWEVnyp'"
      ]
     },
     "execution_count": 12,
     "metadata": {},
     "output_type": "execute_result"
    }
   ],
   "source": [
    "import os\n",
    "\n",
    "\n",
    "os.environ['AWS_SESSION_TOKEN']"
   ]
  },
  {
   "cell_type": "code",
   "execution_count": 29,
   "metadata": {},
   "outputs": [
    {
     "name": "stdout",
     "output_type": "stream",
     "text": [
      "2024-06-04 12:33:23,035 urllib3.connectionpool - DEBUG:Starting new HTTP connection (1): 127.0.0.1:8000\n",
      "2024-06-04 12:33:23,037 urllib3.connectionpool - DEBUG:http://127.0.0.1:8000 \"POST /upload/ HTTP/1.1\" 404 22\n",
      "{'detail': 'Not Found'}\n"
     ]
    }
   ],
   "source": [
    "from pathlib import Path\n",
    "import requests\n",
    "from dotenv import load_dotenv\n",
    "\n",
    "load_dotenv(dotenv_path='../.env')\n",
    "file_path = Path('../data/01_raw/coins_on_wood.png')\n",
    "\n",
    "def upload_file(file_path):\n",
    "    url = \"http://127.0.0.1:8000/upload/\"\n",
    "    with open(file_path, 'rb') as file:\n",
    "        files = {'file': (file_path.name, file)}\n",
    "        response = requests.post(url, files=files)\n",
    "    return response.json()\n",
    "\n",
    "response = upload_file(file_path)\n",
    "\n",
    "print(response)"
   ]
  },
  {
   "cell_type": "code",
   "execution_count": 61,
   "metadata": {},
   "outputs": [
    {
     "name": "stdout",
     "output_type": "stream",
     "text": [
      "2024-06-04 13:04:47,807 urllib3.connectionpool - DEBUG:Starting new HTTP connection (1): 127.0.0.1:8000\n",
      "2024-06-04 13:04:47,811 urllib3.connectionpool - DEBUG:http://127.0.0.1:8000 \"POST /parse_and_upload/?str_s3_path=s3%3A%2F%2Faion-dev-34567%2Feef5c688-3127-5284-95f2-8effc1e17857.png HTTP/1.1\" 307 0\n",
      "2024-06-04 13:04:48,720 urllib3.connectionpool - DEBUG:http://127.0.0.1:8000 \"POST /parse_and_upload?str_s3_path=s3%3A%2F%2Faion-dev-34567%2Feef5c688-3127-5284-95f2-8effc1e17857.png HTTP/1.1\" 200 108\n",
      "{'message': \"Items associated with image URI {'eef5c688-3127-5284-95f2-8effc1e17857'} successfully uploaded\"}\n"
     ]
    }
   ],
   "source": [
    "import requests\n",
    "from dotenv import load_dotenv\n",
    "\n",
    "load_dotenv(dotenv_path='../.env')\n",
    "str_s3_path = 's3://aion-dev-34567/eef5c688-3127-5284-95f2-8effc1e17857.png'\n",
    "\n",
    "def parse_and_upload(str_s3_path):\n",
    "    url = \"http://127.0.0.1:8000/parse_and_upload/\"\n",
    "    params = {'str_s3_path': str_s3_path}\n",
    "    response = requests.post(url, params=params)\n",
    "\n",
    "    return response.json()\n",
    "\n",
    "response = parse_and_upload(str_s3_path)\n",
    "print(response)\n",
    "    "
   ]
  },
  {
   "cell_type": "code",
   "execution_count": 62,
   "metadata": {},
   "outputs": [
    {
     "name": "stdout",
     "output_type": "stream",
     "text": [
      "2024-06-04 13:05:00,502 urllib3.connectionpool - DEBUG:Starting new HTTP connection (1): 127.0.0.1:8000\n",
      "2024-06-04 13:05:00,506 urllib3.connectionpool - DEBUG:http://127.0.0.1:8000 \"POST /get_circles/?str_uri_image=eef5c688-3127-5284-95f2-8effc1e17857 HTTP/1.1\" 307 0\n",
      "2024-06-04 13:05:00,696 urllib3.connectionpool - DEBUG:http://127.0.0.1:8000 \"POST /get_circles?str_uri_image=eef5c688-3127-5284-95f2-8effc1e17857 HTTP/1.1\" 200 682\n",
      "{'list_obj': [{'uri_image': 'eef5c688-3127-5284-95f2-8effc1e17857', 'uri_circle': 'e227f29c-153f-5974-87d2-8fbc417ece24', 'centroid': [254, 218], 'radius': 53, 'bbox': [[201, 165], [307, 271]]}, {'uri_image': 'eef5c688-3127-5284-95f2-8effc1e17857', 'uri_circle': '8491dc86-22a3-522d-8570-6a3364e68735', 'centroid': [266, 405], 'radius': 57, 'bbox': [[209, 348], [323, 462]]}, {'uri_image': 'eef5c688-3127-5284-95f2-8effc1e17857', 'uri_circle': '3ab9f5c3-4f7b-5c96-a940-d6ad9b27015c', 'centroid': [426, 313], 'radius': 63, 'bbox': [[363, 250], [489, 376]]}, {'uri_image': 'eef5c688-3127-5284-95f2-8effc1e17857', 'uri_circle': 'b2f8e0a3-4547-533c-8327-37f6c698db0b', 'centroid': [433, 183], 'radius': 66, 'bbox': [[367, 117], [499, 249]]}]}\n"
     ]
    }
   ],
   "source": [
    "import requests\n",
    "from dotenv import load_dotenv\n",
    "\n",
    "load_dotenv(dotenv_path='../.env')\n",
    "str_uri_image = \"eef5c688-3127-5284-95f2-8effc1e17857\"\n",
    "\n",
    "def get_circles(str_uri_image):\n",
    "    url = \"http://127.0.0.1:8000/get_circles/\"\n",
    "    params = {'str_uri_image': str_uri_image}\n",
    "    response = requests.post(url, params=params)\n",
    "\n",
    "    return response.json()\n",
    "\n",
    "response = get_circles(str_uri_image=str_uri_image)\n",
    "print(response)"
   ]
  },
  {
   "cell_type": "code",
   "execution_count": 63,
   "metadata": {},
   "outputs": [
    {
     "name": "stdout",
     "output_type": "stream",
     "text": [
      "2024-06-04 13:05:06,621 urllib3.connectionpool - DEBUG:Starting new HTTP connection (1): 127.0.0.1:8000\n",
      "2024-06-04 13:05:06,625 urllib3.connectionpool - DEBUG:http://127.0.0.1:8000 \"POST /get_circle/?str_uri_circle=e227f29c-153f-5974-87d2-8fbc417ece24 HTTP/1.1\" 307 0\n",
      "2024-06-04 13:05:06,848 urllib3.connectionpool - DEBUG:http://127.0.0.1:8000 \"POST /get_circle?str_uri_circle=e227f29c-153f-5974-87d2-8fbc417ece24 HTTP/1.1\" 200 166\n",
      "{'uri_image': 'eef5c688-3127-5284-95f2-8effc1e17857', 'uri_circle': 'e227f29c-153f-5974-87d2-8fbc417ece24', 'centroid': [254, 218], 'radius': 53, 'bbox': [[201, 165], [307, 271]]}\n"
     ]
    }
   ],
   "source": [
    "import requests\n",
    "from dotenv import load_dotenv\n",
    "\n",
    "load_dotenv(dotenv_path='../.env')\n",
    "str_uri_circle = \"e227f29c-153f-5974-87d2-8fbc417ece24\"\n",
    "\n",
    "def get_circle(str_uri_circle):\n",
    "    url = \"http://127.0.0.1:8000/get_circle/\"\n",
    "    params = {'str_uri_circle': str_uri_circle}\n",
    "    response = requests.post(url, params=params)\n",
    "\n",
    "    return response.json()\n",
    "\n",
    "response = get_circle(str_uri_circle=str_uri_circle)\n",
    "print(response)"
   ]
  }
 ],
 "metadata": {
  "kernelspec": {
   "display_name": ".venv",
   "language": "python",
   "name": "python3"
  },
  "language_info": {
   "codemirror_mode": {
    "name": "ipython",
    "version": 3
   },
   "file_extension": ".py",
   "mimetype": "text/x-python",
   "name": "python",
   "nbconvert_exporter": "python",
   "pygments_lexer": "ipython3",
   "version": "3.11.9"
  }
 },
 "nbformat": 4,
 "nbformat_minor": 2
}
