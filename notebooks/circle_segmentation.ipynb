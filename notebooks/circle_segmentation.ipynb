version https://git-lfs.github.com/spec/v1
oid sha256:249191bf2163ae44d5c84dc3adbb8a1aca33c9b72237da44977a685d6c8de55d
size 1749030
