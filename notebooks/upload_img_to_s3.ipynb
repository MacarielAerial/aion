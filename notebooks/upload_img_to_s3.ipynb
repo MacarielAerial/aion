{
 "cells": [
  {
   "cell_type": "markdown",
   "metadata": {},
   "source": [
    "# Upload Image to S3"
   ]
  },
  {
   "cell_type": "markdown",
   "metadata": {},
   "source": [
    "Notebook for local testing"
   ]
  },
  {
   "cell_type": "code",
   "execution_count": 23,
   "metadata": {},
   "outputs": [
    {
     "name": "stdout",
     "output_type": "stream",
     "text": [
      "{'filename': 'coins_on_wood.png'}\n"
     ]
    }
   ],
   "source": [
    "from pathlib import Path\n",
    "import requests\n",
    "from dotenv import load_dotenv\n",
    "\n",
    "load_dotenv(dotenv_path='../.env')\n",
    "file_path = Path('../data/01_raw/coins_on_wood.png')\n",
    "\n",
    "def upload_file(file_path):\n",
    "    url = \"http://127.0.0.1:8000/upload/\"\n",
    "    with open(file_path, 'rb') as file:\n",
    "        files = {'file': (file_path.name, file)}\n",
    "        response = requests.post(url, files=files)\n",
    "    return response.json()\n",
    "\n",
    "response = upload_file(file_path)\n",
    "\n",
    "print(response)"
   ]
  }
 ],
 "metadata": {
  "kernelspec": {
   "display_name": ".venv",
   "language": "python",
   "name": "python3"
  },
  "language_info": {
   "codemirror_mode": {
    "name": "ipython",
    "version": 3
   },
   "file_extension": ".py",
   "mimetype": "text/x-python",
   "name": "python",
   "nbconvert_exporter": "python",
   "pygments_lexer": "ipython3",
   "version": "3.11.9"
  }
 },
 "nbformat": 4,
 "nbformat_minor": 2
}
